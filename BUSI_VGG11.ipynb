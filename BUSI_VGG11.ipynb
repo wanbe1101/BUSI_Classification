{
 "cells": [
  {
   "cell_type": "code",
   "execution_count": 1,
   "metadata": {
    "colab": {
     "base_uri": "https://localhost:8080/"
    },
    "executionInfo": {
     "elapsed": 15486,
     "status": "ok",
     "timestamp": 1682350870106,
     "user": {
      "displayName": "侯凱翔",
      "userId": "02626126173760646272"
     },
     "user_tz": -480
    },
    "id": "xZuoH3Ec3pLE",
    "outputId": "8c703df8-93d0-4720-d664-77d7971aaf48"
   },
   "outputs": [
    {
     "name": "stdout",
     "output_type": "stream",
     "text": [
      "Mounted at /content/drive\n"
     ]
    }
   ],
   "source": [
    "from google.colab import drive\n",
    "drive.mount('/content/drive')"
   ]
  },
  {
   "cell_type": "code",
   "execution_count": 4,
   "metadata": {
    "executionInfo": {
     "elapsed": 745,
     "status": "ok",
     "timestamp": 1682350905484,
     "user": {
      "displayName": "侯凱翔",
      "userId": "02626126173760646272"
     },
     "user_tz": -480
    },
    "id": "EeIa5-J73vp-"
   },
   "outputs": [],
   "source": [
    "import cv2\n",
    "import os\n",
    "import glob\n",
    "from tqdm import tqdm\n",
    "import numpy as np\n",
    "np.random.seed = 42\n",
    "import matplotlib.pyplot as plt\n",
    "import keras\n",
    "import tensorflow as tf\n",
    "from keras import layers\n",
    "from tensorflow.keras.utils import plot_model\n",
    "from tf_explain.core.grad_cam import GradCAM\n",
    "from sklearn.model_selection import train_test_split\n",
    "import pandas as pd"
   ]
  },
  {
   "cell_type": "code",
   "execution_count": 5,
   "metadata": {
    "colab": {
     "base_uri": "https://localhost:8080/"
    },
    "executionInfo": {
     "elapsed": 299,
     "status": "ok",
     "timestamp": 1682350909124,
     "user": {
      "displayName": "侯凱翔",
      "userId": "02626126173760646272"
     },
     "user_tz": -480
    },
    "id": "HQkTc_MI3v11",
    "outputId": "0bd07794-7007-4d83-cdd1-2db252dc2d3e"
   },
   "outputs": [
    {
     "data": {
      "text/plain": [
       "['.DS_Store', 'malignant', 'normal', 'benign']"
      ]
     },
     "execution_count": 5,
     "metadata": {},
     "output_type": "execute_result"
    }
   ],
   "source": [
    "root_dir = '/content/drive/MyDrive/input/Dataset_BUSI_with_GT'\n",
    "os.listdir(root_dir)"
   ]
  },
  {
   "cell_type": "code",
   "execution_count": 6,
   "metadata": {
    "executionInfo": {
     "elapsed": 1,
     "status": "ok",
     "timestamp": 1682350910651,
     "user": {
      "displayName": "侯凱翔",
      "userId": "02626126173760646272"
     },
     "user_tz": -480
    },
    "id": "1xXCxCAb4Lzl"
   },
   "outputs": [],
   "source": [
    "IMG_WIDTH = 224\n",
    "IMG_HIGH = 224  #image is 224*224\n",
    "IMG_CHANNELS = 3 # number of input channels\n"
   ]
  },
  {
   "cell_type": "code",
   "execution_count": 7,
   "metadata": {
    "executionInfo": {
     "elapsed": 2,
     "status": "ok",
     "timestamp": 1682350912418,
     "user": {
      "displayName": "侯凱翔",
      "userId": "02626126173760646272"
     },
     "user_tz": -480
    },
    "id": "s6eFPzuB4L-U"
   },
   "outputs": [],
   "source": [
    "def LoadData(root_dir, FolderName, img_width=IMG_WIDTH, img_high=IMG_HIGH, img_channels=IMG_CHANNELS):\n",
    "  num_samples = 0\n",
    "  for address in glob.glob(root_dir + f'/{FolderName}/*'):\n",
    "    s_address = address.split()[-1] #從最後一個image開始抓image_name\n",
    "    s_address = s_address.split('.')[0] #去除image_name裡的\".\"\n",
    "    s_address = s_address.split('_') #去除image_name裡的\"_\"\n",
    "    if len(s_address) == 1:\n",
    "      num_samples += 1\n",
    "\n",
    "  X = np.zeros((num_samples, img_high, img_width, img_channels), dtype=np.uint8)\n",
    "  Y = np.zeros((num_samples, img_high, img_width, 1), dtype=np.bool8)\n",
    "\n",
    "\n",
    "  for address in tqdm(glob.glob(root_dir + f'/{FolderName}/*')): #讀輸出條\n",
    "    img = cv2.imread(address)#讀圖片\n",
    "    img = cv2.cvtColor(img, cv2.COLOR_BGR2RGB)\n",
    "    resized_image = cv2.resize(img, (img_width, img_high), interpolation=cv2.INTER_CUBIC)\n",
    "\n",
    "    s_address = address.split()[-1]\n",
    "    s_address = s_address.split('.')[0]\n",
    "    s_address = s_address.split('_')\n",
    "\n",
    "    idx = s_address[0]\n",
    "    idx = int(idx.split('(')[1].split(')')[0]) - 1\n",
    "\n",
    "    if len(s_address) == 1:\n",
    "      X[idx] = resized_image\n",
    "      \n",
    "    elif len(s_address) > 1:\n",
    "      mask = cv2.cvtColor(resized_image, cv2.COLOR_BGR2GRAY)\n",
    "      \n",
    "      mask = np.expand_dims(mask, axis=-1)\n",
    "      Y[idx] = np.maximum(mask, Y[idx])\n",
    "\n",
    "  return X, Y"
   ]
  },
  {
   "cell_type": "code",
   "execution_count": 8,
   "metadata": {
    "colab": {
     "base_uri": "https://localhost:8080/"
    },
    "executionInfo": {
     "elapsed": 28600,
     "status": "ok",
     "timestamp": 1682350942075,
     "user": {
      "displayName": "侯凱翔",
      "userId": "02626126173760646272"
     },
     "user_tz": -480
    },
    "id": "Flo9NYnr4UY9",
    "outputId": "6610b0b8-28e7-4714-bcf6-c6b3493642b5"
   },
   "outputs": [
    {
     "name": "stderr",
     "output_type": "stream",
     "text": [
      "100%|██████████| 891/891 [00:16<00:00, 54.30it/s]\n",
      "100%|██████████| 431/431 [00:06<00:00, 67.79it/s] \n",
      "100%|██████████| 266/266 [00:05<00:00, 47.16it/s]\n"
     ]
    }
   ],
   "source": [
    "#load image data of benign/malignant/normal\n",
    "#這時我的x是超音波照，y是mask\n",
    "x_benign, y_benign = LoadData(root_dir, 'benign')\n",
    "x_malignant, y_malignant = LoadData(root_dir, 'malignant')\n",
    "x_normal, y_normal = LoadData(root_dir, 'normal')"
   ]
  },
  {
   "cell_type": "code",
   "execution_count": 23,
   "metadata": {
    "colab": {
     "base_uri": "https://localhost:8080/"
    },
    "executionInfo": {
     "elapsed": 264,
     "status": "ok",
     "timestamp": 1682351808574,
     "user": {
      "displayName": "侯凱翔",
      "userId": "02626126173760646272"
     },
     "user_tz": -480
    },
    "id": "4wWpYeOF5PKU",
    "outputId": "ef1e0541-d6f4-4515-8fc9-3092a4c6d3da"
   },
   "outputs": [
    {
     "data": {
      "text/plain": [
       "(437, 215, 133)"
      ]
     },
     "execution_count": 23,
     "metadata": {},
     "output_type": "execute_result"
    }
   ],
   "source": [
    "len(x_benign), len(x_malignant), len(x_normal)\n",
    "#benign/malignant/normal的數量(437, 215, 133)"
   ]
  },
  {
   "cell_type": "code",
   "execution_count": 40,
   "metadata": {
    "colab": {
     "base_uri": "https://localhost:8080/"
    },
    "executionInfo": {
     "elapsed": 284,
     "status": "ok",
     "timestamp": 1682353270869,
     "user": {
      "displayName": "侯凱翔",
      "userId": "02626126173760646272"
     },
     "user_tz": -480
    },
    "id": "XROB7Qeb6ztN",
    "outputId": "ba67f886-1491-4697-8e48-2a4efa9fa7f8"
   },
   "outputs": [
    {
     "data": {
      "text/plain": [
       "((437, 224, 224, 3), (215, 224, 224, 3), (133, 224, 224, 3))"
      ]
     },
     "execution_count": 40,
     "metadata": {},
     "output_type": "execute_result"
    }
   ],
   "source": [
    "x_benign.shape,x_malignant.shape,x_normal.shape\n",
    "#看一下benign/malignant/normal的圖片大小跟顏色通道\n",
    "#((437, 224, 224, 3), (215, 224, 224, 3), (133, 224, 224, 3))"
   ]
  },
  {
   "cell_type": "code",
   "execution_count": 41,
   "metadata": {
    "executionInfo": {
     "elapsed": 267,
     "status": "ok",
     "timestamp": 1682353272462,
     "user": {
      "displayName": "侯凱翔",
      "userId": "02626126173760646272"
     },
     "user_tz": -480
    },
    "id": "QyUlUU3N7wcz"
   },
   "outputs": [],
   "source": [
    "#建立label 用dataforme\n",
    "#benign/malignant/normal各有437/215/133張圖，所以要建立相對數量的label\n",
    "#0為benign/1為malignant/2為normal\n",
    "benign = []\n",
    "for i in range(1,438):\n",
    "    benign.append(0)\n",
    "benign = pd.DataFrame(benign)\n",
    "\n",
    "malignant = []\n",
    "for i in range(1,216):\n",
    "    malignant.append(1)\n",
    "malignant = pd.DataFrame(malignant)\n",
    "\n",
    "normal = []\n",
    "for i in range(1,134):\n",
    "    normal.append(2)\n",
    "normal = pd.DataFrame(normal)\n"
   ]
  },
  {
   "cell_type": "code",
   "execution_count": 42,
   "metadata": {
    "colab": {
     "base_uri": "https://localhost:8080/"
    },
    "executionInfo": {
     "elapsed": 400,
     "status": "ok",
     "timestamp": 1682353274896,
     "user": {
      "displayName": "侯凱翔",
      "userId": "02626126173760646272"
     },
     "user_tz": -480
    },
    "id": "RTWV_Gnm7wTj",
    "outputId": "69944227-cdd9-496c-f1b0-ce5841b93eee"
   },
   "outputs": [
    {
     "name": "stdout",
     "output_type": "stream",
     "text": [
      "(785, 224, 224, 3) (785, 1)\n"
     ]
    }
   ],
   "source": [
    "#concat the image and label\n",
    "X = np.concatenate((x_benign, x_malignant, x_normal), axis=0)\n",
    "y = np.concatenate((benign, malignant, normal), axis=0)\n",
    "print(X.shape, y.shape)\n",
    "#(785, 224, 224, 3) (785, 1)"
   ]
  },
  {
   "cell_type": "code",
   "execution_count": 43,
   "metadata": {
    "colab": {
     "base_uri": "https://localhost:8080/"
    },
    "executionInfo": {
     "elapsed": 414,
     "status": "ok",
     "timestamp": 1682353275865,
     "user": {
      "displayName": "侯凱翔",
      "userId": "02626126173760646272"
     },
     "user_tz": -480
    },
    "id": "So17gDcK8hNb",
    "outputId": "45113376-817d-409f-c8d3-a68faef94a8b"
   },
   "outputs": [
    {
     "name": "stdout",
     "output_type": "stream",
     "text": [
      "(549, 224, 224, 3) (236, 224, 224, 3) (549, 1) (236, 1)\n"
     ]
    }
   ],
   "source": [
    "#split to train, test. 70% train 30%test, have stratify=y.(balance the data)\n",
    "X_train, X_test, y_train, y_test = train_test_split(\n",
    "    X, y, test_size=0.3,  stratify=y, random_state=11)\n",
    "print(X_train.shape, X_test.shape, y_train.shape, y_test.shape)\n",
    "#(549, 224, 224, 3) (236, 224, 224, 3) (549, 1) (236, 1)"
   ]
  },
  {
   "cell_type": "code",
   "execution_count": 44,
   "metadata": {
    "colab": {
     "base_uri": "https://localhost:8080/"
    },
    "executionInfo": {
     "elapsed": 6,
     "status": "ok",
     "timestamp": 1682353276765,
     "user": {
      "displayName": "侯凱翔",
      "userId": "02626126173760646272"
     },
     "user_tz": -480
    },
    "id": "8S2wQZF69EqM",
    "outputId": "1acd75de-38ac-44f6-f96e-ed8da3f03fcd"
   },
   "outputs": [
    {
     "name": "stdout",
     "output_type": "stream",
     "text": [
      "(549, 3) (236, 1)\n"
     ]
    }
   ],
   "source": [
    "#OneHotEncoder\n",
    "from sklearn.preprocessing import OneHotEncoder\n",
    "onehotencoder = OneHotEncoder()\n",
    "y_train = onehotencoder.fit_transform(y_train).toarray()\n",
    "#y_test = onehotencoder.fit_transform(y_test).toarray()\n",
    "print(y_train.shape, y_test.shape)\n",
    "#(549, 3) (236, 3)"
   ]
  },
  {
   "cell_type": "code",
   "execution_count": 45,
   "metadata": {
    "colab": {
     "base_uri": "https://localhost:8080/"
    },
    "executionInfo": {
     "elapsed": 2,
     "status": "ok",
     "timestamp": 1682353279073,
     "user": {
      "displayName": "侯凱翔",
      "userId": "02626126173760646272"
     },
     "user_tz": -480
    },
    "id": "gQBw7_K89F8L",
    "outputId": "cb980b46-7090-4299-dae2-51559b1216c2"
   },
   "outputs": [
    {
     "name": "stdout",
     "output_type": "stream",
     "text": [
      "(439, 224, 224, 3) (236, 224, 224, 3) (110, 224, 224, 3) (439, 3) (236, 1) (110, 3)\n"
     ]
    }
   ],
   "source": [
    "#split train again into validation and train\n",
    "X_train, X_val, y_train, y_val = train_test_split(X_train, y_train ,test_size=0.2,\n",
    "                            stratify=y_train, random_state=11)\n",
    "print(X_train.shape, X_test.shape, X_val.shape, y_train.shape, y_test.shape, y_val.shape)\n",
    "#(439, 224, 224, 3) (236, 224, 224, 3) (110, 224, 224, 3) (439, 3) (236, 3) (110, 3)"
   ]
  },
  {
   "cell_type": "code",
   "execution_count": 46,
   "metadata": {
    "executionInfo": {
     "elapsed": 2,
     "status": "ok",
     "timestamp": 1682353280603,
     "user": {
      "displayName": "侯凱翔",
      "userId": "02626126173760646272"
     },
     "user_tz": -480
    },
    "id": "m97XvCoe9LPa"
   },
   "outputs": [],
   "source": [
    "#Data_Augmentation\n",
    "datagen = tf.keras.preprocessing.image.ImageDataGenerator(\n",
    "        #rescale=1./255,         # 特徵縮放 (後來在做)\n",
    "        rotation_range=10,      # 旋轉 10 度\n",
    "        zoom_range=0.05,         # 拉遠/拉近 5%\n",
    "        width_shift_range=0.05,  # 寬度偏移  5%\n",
    "        height_shift_range=0.05) # 高度偏移  5%"
   ]
  },
  {
   "cell_type": "code",
   "execution_count": 47,
   "metadata": {
    "executionInfo": {
     "elapsed": 897,
     "status": "ok",
     "timestamp": 1682353282411,
     "user": {
      "displayName": "侯凱翔",
      "userId": "02626126173760646272"
     },
     "user_tz": -480
    },
    "id": "-GQ_s9E09jgD"
   },
   "outputs": [],
   "source": [
    "# 特徵縮放\n",
    "X_train = X_train / 255.0\n",
    "X_test = X_test / 255.0\n",
    "X_val = X_val / 255.0"
   ]
  },
  {
   "cell_type": "code",
   "execution_count": 48,
   "metadata": {
    "executionInfo": {
     "elapsed": 718,
     "status": "ok",
     "timestamp": 1682353283697,
     "user": {
      "displayName": "侯凱翔",
      "userId": "02626126173760646272"
     },
     "user_tz": -480
    },
    "id": "JKFKjgsY9maT"
   },
   "outputs": [],
   "source": [
    "# 增補資料，進行模型訓練\n",
    "datagen.fit(X_train)\n",
    "datagen.fit(X_val)"
   ]
  },
  {
   "cell_type": "code",
   "execution_count": 49,
   "metadata": {
    "executionInfo": {
     "elapsed": 3,
     "status": "ok",
     "timestamp": 1682353284440,
     "user": {
      "displayName": "侯凱翔",
      "userId": "02626126173760646272"
     },
     "user_tz": -480
    },
    "id": "o_f2FO1b9uw7"
   },
   "outputs": [],
   "source": [
    "import keras\n",
    "from keras.models import Model\n",
    "from keras.layers import Input, Dense, Activation, Dropout, Flatten\n",
    "from keras.layers import Conv2D, MaxPool2D\n",
    "from tensorflow.keras.models import Sequential\n",
    "from tensorflow.keras.layers import MaxPooling2D\n",
    "\n",
    "import tensorflow as tf\n",
    "from keras.models import Model\n",
    "from keras import layers\n",
    "from keras import backend as K\n",
    "\n",
    "from tensorflow.keras.optimizers import Adam\n"
   ]
  },
  {
   "cell_type": "code",
   "execution_count": 50,
   "metadata": {
    "colab": {
     "base_uri": "https://localhost:8080/"
    },
    "executionInfo": {
     "elapsed": 493,
     "status": "ok",
     "timestamp": 1682353286094,
     "user": {
      "displayName": "侯凱翔",
      "userId": "02626126173760646272"
     },
     "user_tz": -480
    },
    "id": "0_ci63UC9vsT",
    "outputId": "faa0782c-f541-441a-c10e-396dfe49d600"
   },
   "outputs": [
    {
     "name": "stdout",
     "output_type": "stream",
     "text": [
      "Model: \"model_1\"\n",
      "_________________________________________________________________\n",
      " Layer (type)                Output Shape              Param #   \n",
      "=================================================================\n",
      " input_2 (InputLayer)        [(None, 224, 224, 3)]     0         \n",
      "                                                                 \n",
      " conv2d_8 (Conv2D)           (None, 222, 222, 64)      1792      \n",
      "                                                                 \n",
      " max_pooling2d_5 (MaxPooling  (None, 111, 111, 64)     0         \n",
      " 2D)                                                             \n",
      "                                                                 \n",
      " conv2d_9 (Conv2D)           (None, 109, 109, 128)     73856     \n",
      "                                                                 \n",
      " max_pooling2d_6 (MaxPooling  (None, 54, 54, 128)      0         \n",
      " 2D)                                                             \n",
      "                                                                 \n",
      " conv2d_10 (Conv2D)          (None, 52, 52, 256)       295168    \n",
      "                                                                 \n",
      " conv2d_11 (Conv2D)          (None, 50, 50, 256)       590080    \n",
      "                                                                 \n",
      " max_pooling2d_7 (MaxPooling  (None, 25, 25, 256)      0         \n",
      " 2D)                                                             \n",
      "                                                                 \n",
      " conv2d_12 (Conv2D)          (None, 23, 23, 512)       1180160   \n",
      "                                                                 \n",
      " conv2d_13 (Conv2D)          (None, 21, 21, 512)       2359808   \n",
      "                                                                 \n",
      " max_pooling2d_8 (MaxPooling  (None, 10, 10, 512)      0         \n",
      " 2D)                                                             \n",
      "                                                                 \n",
      " conv2d_14 (Conv2D)          (None, 8, 8, 512)         2359808   \n",
      "                                                                 \n",
      " conv2d_15 (Conv2D)          (None, 6, 6, 512)         2359808   \n",
      "                                                                 \n",
      " max_pooling2d_9 (MaxPooling  (None, 3, 3, 512)        0         \n",
      " 2D)                                                             \n",
      "                                                                 \n",
      " flatten_1 (Flatten)         (None, 4608)              0         \n",
      "                                                                 \n",
      " dense_3 (Dense)             (None, 1024)              4719616   \n",
      "                                                                 \n",
      " dense_4 (Dense)             (None, 1024)              1049600   \n",
      "                                                                 \n",
      " dense_5 (Dense)             (None, 3)                 3075      \n",
      "                                                                 \n",
      "=================================================================\n",
      "Total params: 14,992,771\n",
      "Trainable params: 14,992,771\n",
      "Non-trainable params: 0\n",
      "_________________________________________________________________\n"
     ]
    }
   ],
   "source": [
    "###VGG11\n",
    "img_input = layers.Input(shape = (224, 224, 3))\n",
    "#Black1\n",
    "x = layers.Conv2D(64, 3, activation = 'relu')(img_input)\n",
    "x = layers.MaxPooling2D(2,2)(x)\n",
    "#Black2\n",
    "x = layers.Conv2D(128, 3, activation = 'relu')(x)\n",
    "x = layers.MaxPooling2D(2,2)(x)\n",
    "#Black3\n",
    "x = layers.Conv2D(256, 3, activation = 'relu')(x)\n",
    "x = layers.Conv2D(256, 3, activation = 'relu')(x)\n",
    "x = layers.MaxPooling2D(2,2)(x)\n",
    "#Black4\n",
    "x = layers.Conv2D(512, 3, activation = 'relu')(x)\n",
    "x = layers.Conv2D(512, 3, activation = 'relu')(x)\n",
    "x = layers.MaxPooling2D(2,2)(x)\n",
    "#Black5\n",
    "x = layers.Conv2D(512, 3, activation = 'relu')(x)\n",
    "x = layers.Conv2D(512, 3, activation = 'relu')(x)\n",
    "x = layers.MaxPooling2D(2,2)(x)\n",
    "\n",
    "x = layers.Flatten()(x)\n",
    "\n",
    "x = layers.Dense(1024, activation = 'relu')(x)\n",
    "x = layers.Dense(1024, activation = 'relu')(x)\n",
    "\n",
    "output = layers.Dense(3, activation = 'sigmoid')(x)\n",
    "\n",
    "model = Model(img_input, output)\n",
    "\n",
    "model.summary()"
   ]
  },
  {
   "cell_type": "code",
   "execution_count": 51,
   "metadata": {
    "executionInfo": {
     "elapsed": 255,
     "status": "ok",
     "timestamp": 1682353289594,
     "user": {
      "displayName": "侯凱翔",
      "userId": "02626126173760646272"
     },
     "user_tz": -480
    },
    "id": "jTCXKa_p96Xa"
   },
   "outputs": [],
   "source": [
    "model.compile(\n",
    "    optimizer = tf.keras.optimizers.Adam(learning_rate = 0.0003),\n",
    "    loss = 'categorical_crossentropy',  #tf.keras.losses.CategoricalCrossentropy() tf.keras.losses.SparseCategoricalCrossentropy()\n",
    "    metrics = [\"accuracy\"])"
   ]
  },
  {
   "cell_type": "code",
   "execution_count": 52,
   "metadata": {
    "colab": {
     "base_uri": "https://localhost:8080/"
    },
    "executionInfo": {
     "elapsed": 781542,
     "status": "ok",
     "timestamp": 1682354072323,
     "user": {
      "displayName": "侯凱翔",
      "userId": "02626126173760646272"
     },
     "user_tz": -480
    },
    "id": "BMHB2NXv9_Zj",
    "outputId": "972fa6f7-9aad-4cb6-fe27-6de58fd171d0"
   },
   "outputs": [
    {
     "name": "stdout",
     "output_type": "stream",
     "text": [
      "Epoch 1/100\n",
      "7/7 [==============================] - 12s 1s/step - loss: 1.0084 - accuracy: 0.4989 - val_loss: 1.0505 - val_accuracy: 0.5545\n",
      "Epoch 2/100\n",
      "7/7 [==============================] - 6s 902ms/step - loss: 1.0214 - accuracy: 0.5581 - val_loss: 0.9679 - val_accuracy: 0.5545\n",
      "Epoch 3/100\n",
      "7/7 [==============================] - 7s 1s/step - loss: 0.9539 - accuracy: 0.5581 - val_loss: 0.9693 - val_accuracy: 0.5545\n",
      "Epoch 4/100\n",
      "7/7 [==============================] - 6s 869ms/step - loss: 0.9544 - accuracy: 0.5581 - val_loss: 0.9198 - val_accuracy: 0.5545\n",
      "Epoch 5/100\n",
      "7/7 [==============================] - 7s 1s/step - loss: 0.9765 - accuracy: 0.5877 - val_loss: 0.9554 - val_accuracy: 0.5636\n",
      "Epoch 6/100\n",
      "7/7 [==============================] - 6s 888ms/step - loss: 0.9445 - accuracy: 0.5695 - val_loss: 0.9369 - val_accuracy: 0.6182\n",
      "Epoch 7/100\n",
      "7/7 [==============================] - 7s 1s/step - loss: 0.9158 - accuracy: 0.6219 - val_loss: 0.8722 - val_accuracy: 0.6364\n",
      "Epoch 8/100\n",
      "7/7 [==============================] - 6s 928ms/step - loss: 0.8643 - accuracy: 0.6128 - val_loss: 0.8994 - val_accuracy: 0.5636\n",
      "Epoch 9/100\n",
      "7/7 [==============================] - 7s 988ms/step - loss: 0.8684 - accuracy: 0.6241 - val_loss: 0.8438 - val_accuracy: 0.6364\n",
      "Epoch 10/100\n",
      "7/7 [==============================] - 6s 908ms/step - loss: 0.8341 - accuracy: 0.6492 - val_loss: 0.8511 - val_accuracy: 0.6182\n",
      "Epoch 11/100\n",
      "7/7 [==============================] - 7s 1s/step - loss: 0.7915 - accuracy: 0.6606 - val_loss: 0.7759 - val_accuracy: 0.6364\n",
      "Epoch 12/100\n",
      "7/7 [==============================] - 8s 1s/step - loss: 0.7823 - accuracy: 0.6515 - val_loss: 0.7950 - val_accuracy: 0.6182\n",
      "Epoch 13/100\n",
      "7/7 [==============================] - 7s 892ms/step - loss: 0.7495 - accuracy: 0.6606 - val_loss: 0.7952 - val_accuracy: 0.6091\n",
      "Epoch 14/100\n",
      "7/7 [==============================] - 7s 1s/step - loss: 0.7265 - accuracy: 0.6743 - val_loss: 0.9994 - val_accuracy: 0.5636\n",
      "Epoch 15/100\n",
      "7/7 [==============================] - 6s 875ms/step - loss: 0.7824 - accuracy: 0.6560 - val_loss: 0.7500 - val_accuracy: 0.6545\n",
      "Epoch 16/100\n",
      "7/7 [==============================] - 6s 877ms/step - loss: 0.7029 - accuracy: 0.6788 - val_loss: 0.8271 - val_accuracy: 0.5818\n",
      "Epoch 17/100\n",
      "7/7 [==============================] - 7s 1s/step - loss: 0.6825 - accuracy: 0.6856 - val_loss: 1.0310 - val_accuracy: 0.5182\n",
      "Epoch 18/100\n",
      "7/7 [==============================] - 6s 868ms/step - loss: 0.7293 - accuracy: 0.6879 - val_loss: 0.7821 - val_accuracy: 0.6000\n",
      "Epoch 19/100\n",
      "7/7 [==============================] - 7s 1s/step - loss: 0.6440 - accuracy: 0.7016 - val_loss: 0.7560 - val_accuracy: 0.6273\n",
      "Epoch 20/100\n",
      "7/7 [==============================] - 6s 910ms/step - loss: 0.6687 - accuracy: 0.6720 - val_loss: 0.7505 - val_accuracy: 0.6364\n",
      "Epoch 21/100\n",
      "7/7 [==============================] - 8s 1s/step - loss: 0.5931 - accuracy: 0.7198 - val_loss: 0.7916 - val_accuracy: 0.6091\n",
      "Epoch 22/100\n",
      "7/7 [==============================] - 6s 904ms/step - loss: 0.5965 - accuracy: 0.7312 - val_loss: 0.7664 - val_accuracy: 0.6091\n",
      "Epoch 23/100\n",
      "7/7 [==============================] - 8s 1s/step - loss: 0.6058 - accuracy: 0.7517 - val_loss: 0.8715 - val_accuracy: 0.5364\n",
      "Epoch 24/100\n",
      "7/7 [==============================] - 6s 913ms/step - loss: 0.6110 - accuracy: 0.7449 - val_loss: 0.8428 - val_accuracy: 0.5545\n",
      "Epoch 25/100\n",
      "7/7 [==============================] - 6s 890ms/step - loss: 0.5774 - accuracy: 0.7494 - val_loss: 0.7605 - val_accuracy: 0.6545\n",
      "Epoch 26/100\n",
      "7/7 [==============================] - 7s 1s/step - loss: 0.4782 - accuracy: 0.7813 - val_loss: 0.7309 - val_accuracy: 0.6818\n",
      "Epoch 27/100\n",
      "7/7 [==============================] - 6s 889ms/step - loss: 0.4382 - accuracy: 0.8109 - val_loss: 0.7507 - val_accuracy: 0.6545\n",
      "Epoch 28/100\n",
      "7/7 [==============================] - 7s 1s/step - loss: 0.4798 - accuracy: 0.8064 - val_loss: 0.8790 - val_accuracy: 0.6182\n",
      "Epoch 29/100\n",
      "7/7 [==============================] - 8s 1s/step - loss: 0.4861 - accuracy: 0.7904 - val_loss: 0.8737 - val_accuracy: 0.5909\n",
      "Epoch 30/100\n",
      "7/7 [==============================] - 6s 894ms/step - loss: 0.4452 - accuracy: 0.8132 - val_loss: 0.8135 - val_accuracy: 0.6091\n",
      "Epoch 31/100\n",
      "7/7 [==============================] - 7s 1s/step - loss: 0.3940 - accuracy: 0.8292 - val_loss: 1.0431 - val_accuracy: 0.5818\n",
      "Epoch 32/100\n",
      "7/7 [==============================] - 6s 885ms/step - loss: 0.3683 - accuracy: 0.8383 - val_loss: 1.3353 - val_accuracy: 0.6000\n",
      "Epoch 33/100\n",
      "7/7 [==============================] - 7s 1s/step - loss: 0.4638 - accuracy: 0.8269 - val_loss: 0.7659 - val_accuracy: 0.6636\n",
      "Epoch 34/100\n",
      "7/7 [==============================] - 6s 885ms/step - loss: 0.4862 - accuracy: 0.8064 - val_loss: 0.9402 - val_accuracy: 0.6727\n",
      "Epoch 35/100\n",
      "7/7 [==============================] - 8s 1s/step - loss: 0.3999 - accuracy: 0.8383 - val_loss: 0.8184 - val_accuracy: 0.6818\n",
      "Epoch 36/100\n",
      "7/7 [==============================] - 7s 975ms/step - loss: 0.3029 - accuracy: 0.8929 - val_loss: 0.9133 - val_accuracy: 0.6909\n",
      "Epoch 37/100\n",
      "7/7 [==============================] - 6s 888ms/step - loss: 0.2701 - accuracy: 0.8952 - val_loss: 0.8547 - val_accuracy: 0.7636\n",
      "Epoch 38/100\n",
      "7/7 [==============================] - 7s 1s/step - loss: 0.2790 - accuracy: 0.9066 - val_loss: 0.9268 - val_accuracy: 0.6909\n",
      "Epoch 39/100\n",
      "7/7 [==============================] - 6s 898ms/step - loss: 0.2311 - accuracy: 0.9134 - val_loss: 1.4899 - val_accuracy: 0.6818\n",
      "Epoch 40/100\n",
      "7/7 [==============================] - 8s 1s/step - loss: 0.2439 - accuracy: 0.9043 - val_loss: 0.9438 - val_accuracy: 0.7091\n",
      "Epoch 41/100\n",
      "7/7 [==============================] - 6s 875ms/step - loss: 0.2721 - accuracy: 0.9089 - val_loss: 1.2774 - val_accuracy: 0.6273\n",
      "Epoch 42/100\n",
      "7/7 [==============================] - 7s 1s/step - loss: 0.3683 - accuracy: 0.8793 - val_loss: 0.7718 - val_accuracy: 0.7091\n",
      "Epoch 43/100\n",
      "7/7 [==============================] - 7s 1s/step - loss: 0.2355 - accuracy: 0.9089 - val_loss: 0.9469 - val_accuracy: 0.7273\n",
      "Epoch 44/100\n",
      "7/7 [==============================] - 6s 901ms/step - loss: 0.2158 - accuracy: 0.9180 - val_loss: 1.2021 - val_accuracy: 0.7273\n",
      "Epoch 45/100\n",
      "7/7 [==============================] - 8s 1s/step - loss: 0.1838 - accuracy: 0.9339 - val_loss: 1.1184 - val_accuracy: 0.6909\n",
      "Epoch 46/100\n",
      "7/7 [==============================] - 6s 893ms/step - loss: 0.1665 - accuracy: 0.9567 - val_loss: 1.3111 - val_accuracy: 0.6818\n",
      "Epoch 47/100\n",
      "7/7 [==============================] - 8s 1s/step - loss: 0.1062 - accuracy: 0.9636 - val_loss: 1.2823 - val_accuracy: 0.7273\n",
      "Epoch 48/100\n",
      "7/7 [==============================] - 6s 898ms/step - loss: 0.0966 - accuracy: 0.9636 - val_loss: 1.7810 - val_accuracy: 0.7727\n",
      "Epoch 49/100\n",
      "7/7 [==============================] - 6s 875ms/step - loss: 0.0670 - accuracy: 0.9772 - val_loss: 1.9685 - val_accuracy: 0.7182\n",
      "Epoch 50/100\n",
      "7/7 [==============================] - 7s 1s/step - loss: 0.0816 - accuracy: 0.9795 - val_loss: 1.6868 - val_accuracy: 0.7455\n",
      "Epoch 51/100\n",
      "7/7 [==============================] - 6s 920ms/step - loss: 0.1355 - accuracy: 0.9499 - val_loss: 1.6713 - val_accuracy: 0.7182\n",
      "Epoch 52/100\n",
      "7/7 [==============================] - 6s 900ms/step - loss: 0.1430 - accuracy: 0.9590 - val_loss: 1.4011 - val_accuracy: 0.7364\n",
      "Epoch 53/100\n",
      "7/7 [==============================] - 7s 1s/step - loss: 0.1146 - accuracy: 0.9544 - val_loss: 1.5711 - val_accuracy: 0.7636\n",
      "Epoch 54/100\n",
      "7/7 [==============================] - 6s 892ms/step - loss: 0.1969 - accuracy: 0.9408 - val_loss: 1.3994 - val_accuracy: 0.7455\n",
      "Epoch 55/100\n",
      "7/7 [==============================] - 8s 1s/step - loss: 0.1412 - accuracy: 0.9613 - val_loss: 1.2650 - val_accuracy: 0.7091\n",
      "Epoch 56/100\n",
      "7/7 [==============================] - 7s 931ms/step - loss: 0.0880 - accuracy: 0.9636 - val_loss: 1.7970 - val_accuracy: 0.7000\n",
      "Epoch 57/100\n",
      "7/7 [==============================] - 6s 886ms/step - loss: 0.1413 - accuracy: 0.9476 - val_loss: 1.3583 - val_accuracy: 0.6909\n",
      "Epoch 58/100\n",
      "7/7 [==============================] - 6s 911ms/step - loss: 0.2214 - accuracy: 0.9112 - val_loss: 1.1754 - val_accuracy: 0.7000\n",
      "Epoch 59/100\n",
      "7/7 [==============================] - 8s 1s/step - loss: 0.2060 - accuracy: 0.9157 - val_loss: 0.9931 - val_accuracy: 0.7182\n",
      "Epoch 60/100\n",
      "7/7 [==============================] - 6s 892ms/step - loss: 0.1337 - accuracy: 0.9636 - val_loss: 0.8879 - val_accuracy: 0.8000\n",
      "Epoch 61/100\n",
      "7/7 [==============================] - 7s 1s/step - loss: 0.0718 - accuracy: 0.9681 - val_loss: 1.4562 - val_accuracy: 0.7545\n",
      "Epoch 62/100\n",
      "7/7 [==============================] - 6s 876ms/step - loss: 0.0881 - accuracy: 0.9636 - val_loss: 1.8469 - val_accuracy: 0.7182\n",
      "Epoch 63/100\n",
      "7/7 [==============================] - 7s 1s/step - loss: 0.0831 - accuracy: 0.9704 - val_loss: 1.6316 - val_accuracy: 0.7182\n",
      "Epoch 64/100\n",
      "7/7 [==============================] - 6s 898ms/step - loss: 0.0595 - accuracy: 0.9818 - val_loss: 1.4572 - val_accuracy: 0.7455\n",
      "Epoch 65/100\n",
      "7/7 [==============================] - 7s 1s/step - loss: 0.1324 - accuracy: 0.9590 - val_loss: 1.3386 - val_accuracy: 0.7455\n",
      "Epoch 66/100\n",
      "7/7 [==============================] - 6s 908ms/step - loss: 0.1107 - accuracy: 0.9681 - val_loss: 1.4877 - val_accuracy: 0.7455\n",
      "Epoch 67/100\n",
      "7/7 [==============================] - 7s 1s/step - loss: 0.0696 - accuracy: 0.9772 - val_loss: 1.2609 - val_accuracy: 0.7818\n",
      "Epoch 68/100\n",
      "7/7 [==============================] - 7s 952ms/step - loss: 0.0699 - accuracy: 0.9795 - val_loss: 1.2062 - val_accuracy: 0.7818\n",
      "Epoch 69/100\n",
      "7/7 [==============================] - 7s 968ms/step - loss: 0.0566 - accuracy: 0.9795 - val_loss: 1.6727 - val_accuracy: 0.7364\n",
      "Epoch 70/100\n",
      "7/7 [==============================] - 7s 957ms/step - loss: 0.0399 - accuracy: 0.9818 - val_loss: 1.6236 - val_accuracy: 0.7455\n",
      "Epoch 71/100\n",
      "7/7 [==============================] - 7s 958ms/step - loss: 0.1128 - accuracy: 0.9613 - val_loss: 1.5747 - val_accuracy: 0.7545\n",
      "Epoch 72/100\n",
      "7/7 [==============================] - 8s 1s/step - loss: 0.0635 - accuracy: 0.9772 - val_loss: 1.4718 - val_accuracy: 0.7000\n",
      "Epoch 73/100\n",
      "7/7 [==============================] - 6s 872ms/step - loss: 0.0698 - accuracy: 0.9772 - val_loss: 1.4927 - val_accuracy: 0.7091\n",
      "Epoch 74/100\n",
      "7/7 [==============================] - 6s 908ms/step - loss: 0.0487 - accuracy: 0.9818 - val_loss: 1.5044 - val_accuracy: 0.7364\n",
      "Epoch 75/100\n",
      "7/7 [==============================] - 8s 1s/step - loss: 0.0426 - accuracy: 0.9886 - val_loss: 1.8063 - val_accuracy: 0.7273\n",
      "Epoch 76/100\n",
      "7/7 [==============================] - 6s 892ms/step - loss: 0.0232 - accuracy: 0.9954 - val_loss: 1.6282 - val_accuracy: 0.7727\n",
      "Epoch 77/100\n",
      "7/7 [==============================] - 7s 1s/step - loss: 0.0207 - accuracy: 0.9909 - val_loss: 1.9040 - val_accuracy: 0.7091\n",
      "Epoch 78/100\n",
      "7/7 [==============================] - 6s 905ms/step - loss: 0.0326 - accuracy: 0.9863 - val_loss: 1.6432 - val_accuracy: 0.7727\n",
      "Epoch 79/100\n",
      "7/7 [==============================] - 7s 1s/step - loss: 0.0346 - accuracy: 0.9863 - val_loss: 2.3644 - val_accuracy: 0.7091\n",
      "Epoch 80/100\n",
      "7/7 [==============================] - 6s 889ms/step - loss: 0.0939 - accuracy: 0.9749 - val_loss: 2.0420 - val_accuracy: 0.7364\n",
      "Epoch 81/100\n",
      "7/7 [==============================] - 7s 1s/step - loss: 0.0722 - accuracy: 0.9772 - val_loss: 1.5603 - val_accuracy: 0.7273\n",
      "Epoch 82/100\n",
      "7/7 [==============================] - 6s 910ms/step - loss: 0.1797 - accuracy: 0.9431 - val_loss: 1.7817 - val_accuracy: 0.7455\n",
      "Epoch 83/100\n",
      "7/7 [==============================] - 8s 1s/step - loss: 0.1268 - accuracy: 0.9613 - val_loss: 1.5851 - val_accuracy: 0.7545\n",
      "Epoch 84/100\n",
      "7/7 [==============================] - 6s 888ms/step - loss: 0.2018 - accuracy: 0.9453 - val_loss: 1.3288 - val_accuracy: 0.7273\n",
      "Epoch 85/100\n",
      "7/7 [==============================] - 8s 1s/step - loss: 0.1300 - accuracy: 0.9613 - val_loss: 1.5051 - val_accuracy: 0.7273\n",
      "Epoch 86/100\n",
      "7/7 [==============================] - 6s 901ms/step - loss: 0.1025 - accuracy: 0.9681 - val_loss: 1.0193 - val_accuracy: 0.7818\n",
      "Epoch 87/100\n",
      "7/7 [==============================] - 6s 895ms/step - loss: 0.0465 - accuracy: 0.9841 - val_loss: 1.5068 - val_accuracy: 0.7636\n",
      "Epoch 88/100\n",
      "7/7 [==============================] - 7s 1s/step - loss: 0.0247 - accuracy: 0.9932 - val_loss: 1.7883 - val_accuracy: 0.7636\n",
      "Epoch 89/100\n",
      "7/7 [==============================] - 6s 900ms/step - loss: 0.0247 - accuracy: 0.9841 - val_loss: 1.7367 - val_accuracy: 0.7455\n",
      "Epoch 90/100\n",
      "7/7 [==============================] - 8s 1s/step - loss: 0.0404 - accuracy: 0.9886 - val_loss: 1.7467 - val_accuracy: 0.7909\n",
      "Epoch 91/100\n",
      "7/7 [==============================] - 6s 875ms/step - loss: 0.0189 - accuracy: 0.9932 - val_loss: 1.8919 - val_accuracy: 0.7364\n",
      "Epoch 92/100\n",
      "7/7 [==============================] - 6s 874ms/step - loss: 0.0198 - accuracy: 0.9909 - val_loss: 1.9233 - val_accuracy: 0.8000\n",
      "Epoch 93/100\n",
      "7/7 [==============================] - 8s 1s/step - loss: 0.0138 - accuracy: 0.9932 - val_loss: 2.1409 - val_accuracy: 0.7636\n",
      "Epoch 94/100\n",
      "7/7 [==============================] - 6s 885ms/step - loss: 0.0119 - accuracy: 0.9954 - val_loss: 2.3386 - val_accuracy: 0.7455\n",
      "Epoch 95/100\n",
      "7/7 [==============================] - 7s 989ms/step - loss: 0.0519 - accuracy: 0.9863 - val_loss: 2.2656 - val_accuracy: 0.7273\n",
      "Epoch 96/100\n",
      "7/7 [==============================] - 8s 1s/step - loss: 0.0668 - accuracy: 0.9863 - val_loss: 1.8679 - val_accuracy: 0.7636\n",
      "Epoch 97/100\n",
      "7/7 [==============================] - 6s 917ms/step - loss: 0.0817 - accuracy: 0.9704 - val_loss: 1.8305 - val_accuracy: 0.7091\n",
      "Epoch 98/100\n",
      "7/7 [==============================] - 8s 1s/step - loss: 0.0542 - accuracy: 0.9863 - val_loss: 1.5080 - val_accuracy: 0.7091\n",
      "Epoch 99/100\n",
      "7/7 [==============================] - 6s 887ms/step - loss: 0.0337 - accuracy: 0.9841 - val_loss: 2.0049 - val_accuracy: 0.7091\n",
      "Epoch 100/100\n",
      "7/7 [==============================] - 8s 1s/step - loss: 0.0366 - accuracy: 0.9863 - val_loss: 1.6923 - val_accuracy: 0.7545\n"
     ]
    }
   ],
   "source": [
    "history = model.fit(datagen.flow(X_train, y_train, batch_size=64), epochs=100, \n",
    "                    validation_data=datagen.flow(X_val, y_val, batch_size=64))\n",
    "#epochs=100訓練100次 datagen.flow要套用Data_Augmentation的效果"
   ]
  },
  {
   "cell_type": "code",
   "execution_count": 53,
   "metadata": {
    "colab": {
     "base_uri": "https://localhost:8080/"
    },
    "executionInfo": {
     "elapsed": 946,
     "status": "ok",
     "timestamp": 1682354075342,
     "user": {
      "displayName": "侯凱翔",
      "userId": "02626126173760646272"
     },
     "user_tz": -480
    },
    "id": "ckl7jFxh-USb",
    "outputId": "b3dfd217-1e1f-45fe-efaf-dd64ded1eb09"
   },
   "outputs": [
    {
     "name": "stdout",
     "output_type": "stream",
     "text": [
      "8/8 [==============================] - 1s 59ms/step\n",
      "[1 1 1 0 1 1 1 0 0 0 0 0 2 0 0 0 0 2 0 1 0 1 0 1 0 0 0 1 1 0 1 1 0 0 1 0 0\n",
      " 0 0 0 1 0 1 0 1 0 0 1 1 2 2 2 1 1 0 0 2 2 2 0 0 0 0 0 1 1 0 1 0 1 2 0 0 0\n",
      " 0 0 0 0 0 2 2 0 2 1 1 0 1 0 0 0 2 0 0 0 0 2 0 0 1 0 0 0 0 1 0 0 1 2 0 2 2\n",
      " 0 1 0 0 0 0 0 1 0 0 0 0 1 1 2 0 2 0 1 0 0 0 0 0 1 1 2 1 0 0 1 1 1 1 0 0 0\n",
      " 0 2 0 2 0 0 0 0 0 0 0 1 1 0 1 0 1 0 2 0 0 0 0 1 0 0 0 0 0 2 1 0 0 0 0 1 0\n",
      " 1 2 0 0 0 0 0 2 1 1 0 2 0 0 0 0 1 1 0 1 0 2 2 0 1 0 1 0 0 0 0 1 1 0 1 0 0\n",
      " 1 0 1 0 1 0 0 0 1 2 0 0 1 1]\n"
     ]
    }
   ],
   "source": [
    "#predict the y\n",
    "pred_y = model.predict(X_test)\n",
    "pred = np.argmax(pred_y, axis=1)\n",
    "print(pred)"
   ]
  },
  {
   "cell_type": "code",
   "execution_count": 54,
   "metadata": {
    "colab": {
     "base_uri": "https://localhost:8080/"
    },
    "executionInfo": {
     "elapsed": 4,
     "status": "ok",
     "timestamp": 1682354078679,
     "user": {
      "displayName": "侯凱翔",
      "userId": "02626126173760646272"
     },
     "user_tz": -480
    },
    "id": "C5FJ6oyH-bVq",
    "outputId": "11f9371a-1ef6-4404-d52e-6c8d1f10d898"
   },
   "outputs": [
    {
     "data": {
      "text/plain": [
       "0.7203389830508474"
      ]
     },
     "execution_count": 54,
     "metadata": {},
     "output_type": "execute_result"
    }
   ],
   "source": [
    "from sklearn.metrics import accuracy_score\n",
    "accuracy_score(y_test, pred)"
   ]
  },
  {
   "cell_type": "code",
   "execution_count": 55,
   "metadata": {
    "colab": {
     "base_uri": "https://localhost:8080/",
     "height": 472
    },
    "executionInfo": {
     "elapsed": 677,
     "status": "ok",
     "timestamp": 1682354083433,
     "user": {
      "displayName": "侯凱翔",
      "userId": "02626126173760646272"
     },
     "user_tz": -480
    },
    "id": "TwENcab4-ejC",
    "outputId": "89ae99bb-cf42-4aa8-dac7-4f43ba985841"
   },
   "outputs": [
    {
     "data": {
      "image/png": "[encoded data removed]",
      "text/plain": [
       "<Figure size 640x480 with 1 Axes>"
      ]
     },
     "metadata": {},
     "output_type": "display_data"
    }
   ],
   "source": [
    "import matplotlib.pyplot as plt\n",
    "#plot model accuracy_plot\n",
    "plt.plot(history.history[\"accuracy\"])\n",
    "plt.plot(history.history[\"val_accuracy\"])\n",
    "plt.ylabel(\"Accuracy\")\n",
    "plt.xlabel(\"Epoch = 100\")\n",
    "plt.legend([\"Accuracy\",\"Validation_Accuracy\"])\n",
    "plt.title(\"Model : VGG11_Data_Augmentation\")\n",
    "plt.show()"
   ]
  },
  {
   "cell_type": "code",
   "execution_count": 56,
   "metadata": {
    "colab": {
     "base_uri": "https://localhost:8080/",
     "height": 472
    },
    "executionInfo": {
     "elapsed": 1070,
     "status": "ok",
     "timestamp": 1682354087371,
     "user": {
      "displayName": "侯凱翔",
      "userId": "02626126173760646272"
     },
     "user_tz": -480
    },
    "id": "m1h1PsN6-iyK",
    "outputId": "2281a4e1-0854-4377-a777-71ebd2af5233"
   },
   "outputs": [
    {
     "data": {
      "image/png": "[encoded data removed]",
      "text/plain": [
       "<Figure size 640x480 with 1 Axes>"
      ]
     },
     "metadata": {},
     "output_type": "display_data"
    }
   ],
   "source": [
    "#plot model loss_plot\n",
    "plt.plot(history.history[\"loss\"])\n",
    "plt.plot(history.history[\"val_loss\"])\n",
    "plt.ylabel(\"loss\")\n",
    "plt.xlabel(\"Epoch = 100\")\n",
    "plt.legend([\"Loss\",\"Validation_Loss\"])\n",
    "plt.title(\"Model : VGG11_Data_Augmentation\")\n",
    "plt.show()\n"
   ]
  }
 ],
 "metadata": {
  "accelerator": "GPU",
  "colab": {
   "authorship_tag": "ABX9TyOjBjVhmxXvIUYj9Dtme/au",
   "provenance": []
  },
  "gpuClass": "standard",
  "kernelspec": {
   "display_name": "Python 3 (ipykernel)",
   "language": "python",
   "name": "python3"
  },
  "language_info": {
   "codemirror_mode": {
    "name": "ipython",
    "version": 3
   },
   "file_extension": ".py",
   "mimetype": "text/x-python",
   "name": "python",
   "nbconvert_exporter": "python",
   "pygments_lexer": "ipython3",
   "version": "3.7.16"
  }
 },
 "nbformat": 4,
 "nbformat_minor": 1
}
